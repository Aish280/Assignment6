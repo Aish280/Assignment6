{
 "cells": [
  {
   "cell_type": "code",
   "execution_count": 3,
   "metadata": {},
   "outputs": [
    {
     "name": "stdout",
     "output_type": "stream",
     "text": [
      "Input a binary number: 10010\n",
      "The decimal value of the number is 18\n"
     ]
    }
   ],
   "source": [
    "# 1)python program to convert binary to decimal\n",
    "b_num=list(input(\"Input a binary number: \"))\n",
    "value=0\n",
    "for i in range(len(b_num)):\n",
    "  digit=b_num.pop() \n",
    "  if digit=='1':\n",
    "    value=value+pow(2,i)\n",
    "print(\"The decimal value of the number is\",value)"
   ]
  },
  {
   "cell_type": "code",
   "execution_count": 13,
   "metadata": {},
   "outputs": [
    {
     "name": "stdout",
     "output_type": "stream",
     "text": [
      "enter the term: 8\n",
      "Fibonacci series:\n",
      "0\n",
      "1\n",
      "1\n",
      "2\n",
      "3\n",
      "5\n",
      "8\n",
      "13\n"
     ]
    }
   ],
   "source": [
    "# 2)python program to generate first n number of fibonacci numbers.Take N value from the user\n",
    "nterms=int(input(\"enter the term: \"))\n",
    "n1,n2=0,1\n",
    "count=0\n",
    "if nterms<=0:\n",
    "   print(\"please enter the positive integer\") \n",
    "elif nterms==1 :\n",
    "    print(\"Fibonacci sequence upto\",nterms,\":\")\n",
    "    print(n2)\n",
    "else:\n",
    "    print(\"Fibonacci series:\")\n",
    "    while count<nterms:\n",
    "        print(n1)\n",
    "        nth=n1+n2\n",
    "        n1=n2\n",
    "        n2=nth\n",
    "        count+=1"
   ]
  },
  {
   "cell_type": "code",
   "execution_count": 14,
   "metadata": {},
   "outputs": [
    {
     "name": "stdout",
     "output_type": "stream",
     "text": [
      "Enter the number: 8\n",
      "Multliplication table of 8\n",
      "8 X 1 = 8\n",
      "8 X 2 = 16\n",
      "8 X 3 = 24\n",
      "8 X 4 = 32\n",
      "8 X 5 = 40\n",
      "8 X 6 = 48\n",
      "8 X 7 = 56\n",
      "8 X 8 = 64\n",
      "8 X 9 = 72\n",
      "8 X 10 = 80\n"
     ]
    }
   ],
   "source": [
    "# 3)python program to display multliplication table of k.Take k value from user\n",
    "num=int(input(\"Enter the number: \"))\n",
    "print(\"Multliplication table of\",num)\n",
    "for i in range(1,11):\n",
    "    print(num,\"X\",i,\"=\",num*i)"
   ]
  },
  {
   "cell_type": "code",
   "execution_count": 21,
   "metadata": {},
   "outputs": [
    {
     "name": "stdout",
     "output_type": "stream",
     "text": [
      "How many numbers: 10\n",
      "Enter number : 5\n",
      "Enter number : 6\n",
      "Enter number : 7\n",
      "Enter number : 8\n",
      "Enter number : 9\n",
      "Enter number : 45\n",
      "Enter number : 6\n",
      "Enter number : 67\n",
      "Enter number : 4\n",
      "Enter number : 34\n",
      "Average of  10  numbers is : 19.1\n"
     ]
    }
   ],
   "source": [
    "# 4)python program to take 10 integers from keyboard using loop and print their average value on the screen\n",
    "num = int(input('How many numbers: '))\n",
    "total_sum = 0\n",
    " \n",
    "for n in range(num):\n",
    "    numbers = float(input('Enter number : '))\n",
    "    total_sum += numbers\n",
    " \n",
    "avg = total_sum/num\n",
    "print('Average of ', num, ' numbers is :', avg)"
   ]
  },
  {
   "cell_type": "code",
   "execution_count": 22,
   "metadata": {},
   "outputs": [
    {
     "name": "stdout",
     "output_type": "stream",
     "text": [
      "*\r\n",
      "**\r\n",
      "***\r\n",
      "****\r\n"
     ]
    }
   ],
   "source": [
    "# 5)python program to print the patterns using loop\n",
    "def pypart(n):\n",
    "    for i in range(0,n):\n",
    "        for j in range(0,i+1):\n",
    "            print(\"*\",end=\"\")\n",
    "        print(\"\\r\")\n",
    "n=4\n",
    "pypart(n)"
   ]
  }
 ],
 "metadata": {
  "kernelspec": {
   "display_name": "Python 3",
   "language": "python",
   "name": "python3"
  },
  "language_info": {
   "codemirror_mode": {
    "name": "ipython",
    "version": 3
   },
   "file_extension": ".py",
   "mimetype": "text/x-python",
   "name": "python",
   "nbconvert_exporter": "python",
   "pygments_lexer": "ipython3",
   "version": "3.8.3"
  }
 },
 "nbformat": 4,
 "nbformat_minor": 4
}
